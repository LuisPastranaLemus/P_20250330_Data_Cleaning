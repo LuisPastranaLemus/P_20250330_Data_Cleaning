{
 "cells": [
  {
   "cell_type": "markdown",
   "id": "ae7dd5f4",
   "metadata": {},
   "source": [
    "As part of the analytics team, the first thing you need to do is assess the quality of a sample of collected data and prepare it for further analysis. Then, in the second part of this project, in the second sprint, you'll further develop your skills and conduct your first full analysis, responding to the client's needs."
   ]
  },
  {
   "cell_type": "markdown",
   "id": "3519f6e2",
   "metadata": {},
   "source": [
    "This is the data the client provided us. It is formatted as a Python list, with the following data columns:\n",
    "\n",
    "- **user_id:** Unique identifier for each user.\n",
    "- **user_name:** The user's first name.\n",
    "- **user_age:** The user's age.\n",
    "- **fav_categories:** Favorite categories of items the user purchased, such as 'ELECTRONICS', 'SPORT', and 'BOOKS', etc.\n",
    "- **total_spendings:** A list of integers indicating the total amount spent on each of the favorite categories."
   ]
  },
  {
   "cell_type": "code",
   "execution_count": null,
   "id": "6a3ac616",
   "metadata": {},
   "outputs": [],
   "source": [
    "users = [\n",
    "    ['32415', ' mike_reed ', 32.0, ['ELECTRONICS', 'SPORT', 'BOOKS'], [894, 213, 173]],\n",
    "    ['31980', 'kate morgan', 24.0, ['CLOTHES', 'BOOKS'], [439, 390]],\n",
    "    ['32156', ' john doe ', 37.0, ['ELECTRONICS', 'HOME', 'FOOD'], [459, 120, 99]],\n",
    "    ['32761', 'SAMANTHA SMITH', 29.0, ['CLOTHES',\n",
    "                                       'ELECTRONICS', 'BEAUTY'], [299, 679, 85]],\n",
    "    ['32984', 'David White', 41.0, ['BOOKS', 'HOME', 'SPORT'], [234, 329, 243]],\n",
    "    ['33001', 'emily brown', 26.0, ['BEAUTY', 'HOME', 'FOOD'], [213, 659, 79]],\n",
    "    ['33767', ' Maria Garcia', 33.0, ['CLOTHES', 'FOOD', 'BEAUTY'], [499, 189, 63]],\n",
    "    ['33912', 'JOSE MARTINEZ', 22.0, ['SPORT', 'ELECTRONICS', 'HOME'], [259, 549, 109]],\n",
    "    ['34009', 'lisa wilson ', 35.0, ['HOME', 'BOOKS', 'CLOTHES'], [329, 189, 329]],\n",
    "    ['34278', 'James Lee', 28.0, ['BEAUTY', 'CLOTHES', 'ELECTRONICS'], [189, 299, 579]],\n",
    "]"
   ]
  },
  {
   "cell_type": "markdown",
   "id": "00f93060",
   "metadata": {},
   "source": [
    "# Step 1\n",
    "\n",
    "Store 1 aims to ensure consistency in data collection. As part of this initiative, the quality of the data collected about users must be assessed. You have been asked to review the collected data and suggest changes. Below, you will see data about a specific user; review the data and identify any potential issues."
   ]
  },
  {
   "cell_type": "code",
   "execution_count": 2,
   "id": "c3402827",
   "metadata": {},
   "outputs": [],
   "source": [
    "user_id = '32415'\n",
    "user_name = ' mike_reed '\n",
    "user_age = 32.0\n",
    "fav_categories = ['ELECTRONICS', 'SPORT', 'BOOKS']"
   ]
  },
  {
   "cell_type": "markdown",
   "id": "db2ed45f",
   "metadata": {},
   "source": [
    "**Options:**\n",
    "\n",
    "1. The `user_id` data type must be changed from string to integer.\n",
    "\n",
    "2. The `user_name` variable contains a string with unnecessary spaces and an underscore between the first and last names.\n",
    "\n",
    "3. The `user_age` data type is correct and there is no need to convert it.\n",
    "\n",
    "4. The `fav_categories` list contains uppercase strings. Instead, we must convert the list values ​​to lowercase."
   ]
  },
  {
   "cell_type": "markdown",
   "id": "ac8f7831",
   "metadata": {},
   "source": [
    "For each option, write in the markdown box below whether you identified it as a real problem in the data or not. Justify your reasoning. For example, if you believe the first option is correct, write it down and explain why you think it is correct."
   ]
  },
  {
   "cell_type": "markdown",
   "id": "da45baed",
   "metadata": {},
   "source": [
    "**Write your answer and explain your reasoning:**\n",
    "\n",
    "_Answer:_\n",
    "\n",
    "User_id, when recording the values ​​of each field for a data collection, they are usually entered as Strings, but generally, for convenience, identifiers are preferred as Int values.\n",
    "\n",
    "User_name, the values ​​of records in this field that contain names, are sometimes entered by users with typos, additional characters such as spaces or special characters, or the programmed frontend mistakenly adds these additional characters, so these values ​​must be standardized.\n",
    "\n",
    "Fav_categories, should be a requirement for data management to convert all of them to lowercase; others prefer them to be uppercase."
   ]
  },
  {
   "cell_type": "markdown",
   "id": "9d6b4f1f",
   "metadata": {},
   "source": [
    "# Step 2\n",
    "\n",
    "Let's implement the changes we identified. First, we need to fix the issues with the `user_name` variable. As we saw, it has unnecessary spaces and an underscore separator between the first and last names. Your goal is to remove the spaces and then replace the underscore with a space."
   ]
  },
  {
   "cell_type": "code",
   "execution_count": 3,
   "id": "129ef92e",
   "metadata": {},
   "outputs": [
    {
     "name": "stdout",
     "output_type": "stream",
     "text": [
      "mike reed\n"
     ]
    }
   ],
   "source": [
    "user_name = ' mike_reed '\n",
    "user_name = user_name.replace('_', ' ').strip()\n",
    "\n",
    "print(user_name)"
   ]
  },
  {
   "cell_type": "markdown",
   "id": "fea0c834",
   "metadata": {},
   "source": [
    "********Hint********\n",
    "\n",
    "There is a method, `strip()`, that can remove spaces at the beginning and end of a string. Additionally, the `replace()` method can be used to replace part of a string. In this case, we want to replace the underscores (`_`) with spaces."
   ]
  },
  {
   "cell_type": "markdown",
   "id": "70406b15",
   "metadata": {},
   "source": [
    "# Step 3\n",
    "\n",
    "Next, we need to split the updated `user_name` into two substrings to obtain a list containing two values: the string for the first name and the string for the last name."
   ]
  },
  {
   "cell_type": "code",
   "execution_count": 4,
   "id": "daed359e",
   "metadata": {},
   "outputs": [
    {
     "name": "stdout",
     "output_type": "stream",
     "text": [
      "['mike', 'reed']\n"
     ]
    }
   ],
   "source": [
    "user_name = 'mike reed'\n",
    "name_split = user_name.split()\n",
    "\n",
    "print(name_split)"
   ]
  },
  {
   "cell_type": "markdown",
   "id": "c4785612",
   "metadata": {},
   "source": [
    "********Hint********\n",
    "\n",
    "The `split()` method is used to split a string. By default, it uses a space as the separator."
   ]
  },
  {
   "cell_type": "markdown",
   "id": "b173686a",
   "metadata": {},
   "source": [
    "# Step 4\n",
    "\n",
    "Great! Now we need to work with the `user_age` variable. As we mentioned, it has an incorrect data type. Let's fix this problem by converting the data type and displaying the final result."
   ]
  },
  {
   "cell_type": "code",
   "execution_count": 5,
   "id": "e2d6a5e9",
   "metadata": {},
   "outputs": [
    {
     "name": "stdout",
     "output_type": "stream",
     "text": [
      "32\n"
     ]
    }
   ],
   "source": [
    "user_age = 32.0\n",
    "user_age = int(user_age)\n",
    "\n",
    "print(user_age)"
   ]
  },
  {
   "cell_type": "markdown",
   "id": "c1224b7b",
   "metadata": {},
   "source": [
    "********Hint********\n",
    "\n",
    "What type of data will remove the floating-point portion?"
   ]
  },
  {
   "cell_type": "markdown",
   "id": "8acaa560",
   "metadata": {},
   "source": [
    "# Step 5\n",
    "\n",
    "As we know, data isn't always perfect. We must consider scenarios in which the `user_age` value cannot be converted to an integer. To prevent our system from crashing, we must take measures in advance.\n",
    "\n",
    "Write code that attempts to convert the `user_age` variable to an integer and assigns the transformed value to `user_age_int`. If the attempt fails, we display a message asking the user to provide their age as a numerical value with the message: `Please provide your age as a numerical value.`"
   ]
  },
  {
   "cell_type": "code",
   "execution_count": null,
   "id": "bc4403d8",
   "metadata": {},
   "outputs": [
    {
     "name": "stdout",
     "output_type": "stream",
     "text": [
      "25\n"
     ]
    }
   ],
   "source": [
    "user_age = 'treinta y dos'\n",
    "\n",
    "try:\n",
    "\n",
    "    user_age = int(user_age)\n",
    "\n",
    "except ValueError:\n",
    "\n",
    "    while True:\n",
    "\n",
    "        user_age = input(\n",
    "            '> Error: invalid age, please enter a valid number.\\n> ')\n",
    "\n",
    "        if user_age.isdigit():\n",
    "            user_age = int(user_age)\n",
    "            print(user_age)\n",
    "            break\n",
    "        else:\n",
    "            print('> Error: invalid age, please enter a valid number.')\n",
    "\n",
    "else:\n",
    "    print(user_age)"
   ]
  },
  {
   "cell_type": "markdown",
   "id": "d6c64553",
   "metadata": {},
   "source": [
    "********Hint********\n",
    "\n",
    "Use a `try-except` block to attempt the conversion; if it fails, provide a clear message indicating that the input must be numeric."
   ]
  },
  {
   "cell_type": "markdown",
   "id": "4960f505",
   "metadata": {},
   "source": [
    "# Step 6\n",
    "\n",
    "Store 1's management team has asked you to help them organize their customer data for better analysis and management.\n",
    "\n",
    "Your task is to sort this list by user ID in ascending order to make it easier to access and analyze."
   ]
  },
  {
   "cell_type": "code",
   "execution_count": null,
   "id": "a67c8e30",
   "metadata": {},
   "outputs": [
    {
     "name": "stdout",
     "output_type": "stream",
     "text": [
      "[['31980', 'kate morgan', 24.0, ['CLOTHES', 'BOOKS'], [439, 390]], ['32156', ' john doe ', 37.0, ['ELECTRONICS', 'HOME', 'FOOD'], [459, 120, 99]], ['32415', ' mike_reed ', 32.0, ['ELECTRONICS', 'SPORT', 'BOOKS'], [894, 213, 173]], ['32761', 'SAMANTHA SMITH', 29.0, ['CLOTHES', 'ELECTRONICS', 'BEAUTY'], [299, 679, 85]], ['32984', 'David White', 41.0, ['BOOKS', 'HOME', 'SPORT'], [234, 329, 243]], ['33001', 'emily brown', 26.0, ['BEAUTY', 'HOME', 'FOOD'], [213, 659, 79]], ['33767', ' Maria Garcia', 33.0, ['CLOTHES', 'FOOD', 'BEAUTY'], [499, 189, 63]], ['33912', 'JOSE MARTINEZ', 22.0, ['SPORT', 'ELECTRONICS', 'HOME'], [259, 549, 109]], ['34009', 'lisa wilson ', 35.0, ['HOME', 'BOOKS', 'CLOTHES'], [329, 189, 329]], ['34278', 'James Lee', 28.0, ['BEAUTY', 'CLOTHES', 'ELECTRONICS'], [189, 299, 579]]]\n"
     ]
    }
   ],
   "source": [
    "users = [\n",
    "    ['32415', ' mike_reed ', 32.0, ['ELECTRONICS', 'SPORT', 'BOOKS'], [894, 213, 173]],\n",
    "    ['31980', 'kate morgan', 24.0, ['CLOTHES', 'BOOKS'], [439, 390]],\n",
    "    ['32156', ' john doe ', 37.0, ['ELECTRONICS', 'HOME', 'FOOD'], [459, 120, 99]],\n",
    "    ['32761', 'SAMANTHA SMITH', 29.0, ['CLOTHES',\n",
    "                                       'ELECTRONICS', 'BEAUTY'], [299, 679, 85]],\n",
    "    ['32984', 'David White', 41.0, ['BOOKS', 'HOME', 'SPORT'], [234, 329, 243]],\n",
    "    ['33001', 'emily brown', 26.0, ['BEAUTY', 'HOME', 'FOOD'], [213, 659, 79]],\n",
    "    ['33767', ' Maria Garcia', 33.0, ['CLOTHES', 'FOOD', 'BEAUTY'], [499, 189, 63]],\n",
    "    ['33912', 'JOSE MARTINEZ', 22.0, ['SPORT', 'ELECTRONICS', 'HOME'], [259, 549, 109]],\n",
    "    ['34009', 'lisa wilson ', 35.0, ['HOME', 'BOOKS', 'CLOTHES'], [329, 189, 329]],\n",
    "    ['34278', 'James Lee', 28.0, ['BEAUTY', 'CLOTHES', 'ELECTRONICS'], [189, 299, 579]],\n",
    "]\n",
    "\n",
    "users.sort()\n",
    "\n",
    "print(users)"
   ]
  },
  {
   "cell_type": "markdown",
   "id": "20da70b5",
   "metadata": {},
   "source": [
    "********Hint********\n",
    "\n",
    "You can use the `sort()` method on the user list to sort it in ascending order."
   ]
  },
  {
   "cell_type": "markdown",
   "id": "1cadca26",
   "metadata": {},
   "source": [
    "# Step 7\n",
    "\n",
    "We have information about our users' spending habits, including the amount spent on each of their favorite categories. Management is interested in knowing the total amount spent by the user.\n",
    "\n",
    "Let's calculate this value and display it."
   ]
  },
  {
   "cell_type": "code",
   "execution_count": 8,
   "id": "cc6991b1",
   "metadata": {},
   "outputs": [
    {
     "name": "stdout",
     "output_type": "stream",
     "text": [
      "1280\n"
     ]
    }
   ],
   "source": [
    "fav_categories_low = ['electronics', 'sport', 'books']\n",
    "spendings_per_category = [894, 213, 173]\n",
    "\n",
    "total_amount = sum(spendings_per_category)\n",
    "\n",
    "print(total_amount)"
   ]
  },
  {
   "cell_type": "markdown",
   "id": "4f0ac5fa",
   "metadata": {},
   "source": [
    "********Hint********\n",
    "\n",
    "What three methods can be applied to a list to calculate its minimum, maximum, and total values?"
   ]
  },
  {
   "cell_type": "markdown",
   "id": "9794b928",
   "metadata": {},
   "source": [
    "# Step 8\n",
    "\n",
    "Company management asked us to think of a way to summarize all of a user's information. Your goal is to create a formatted string using information from the variables `user_id`, `user_name`, and `user_age`.\n",
    "\n",
    "This is the final string we want to create: `User 32415 is mike who is 32 years old.`"
   ]
  },
  {
   "cell_type": "code",
   "execution_count": 9,
   "id": "f6a152db",
   "metadata": {},
   "outputs": [
    {
     "name": "stdout",
     "output_type": "stream",
     "text": [
      "User 32415 is mike who is 32\n"
     ]
    }
   ],
   "source": [
    "user_id = '32415'\n",
    "user_name = ['mike', 'reed']\n",
    "user_age = 32\n",
    "\n",
    "user_info = f'User {user_id} is {user_name[0]} who is {user_age}'\n",
    "print(user_info)"
   ]
  },
  {
   "cell_type": "markdown",
   "id": "959e31e7",
   "metadata": {},
   "source": [
    "********Hint********\n",
    "\n",
    "To create a string, you can use the `format()` method or f-string. To extract the name from the `user_name` list, you can use slicing."
   ]
  },
  {
   "cell_type": "markdown",
   "id": "fc44979f",
   "metadata": {},
   "source": [
    "# Step 9\n",
    "\n",
    "Management also wants an easy way to know the number of customers whose data we have. Your goal is to create a formatted string that displays the number of customer data recorded.\n",
    "\n",
    "This is the final string we want to create: \"We have recorded data for X customers.\""
   ]
  },
  {
   "cell_type": "code",
   "execution_count": null,
   "id": "586be96f",
   "metadata": {},
   "outputs": [
    {
     "name": "stdout",
     "output_type": "stream",
     "text": [
      "We have registered data from 10 clients.\n"
     ]
    }
   ],
   "source": [
    "users = [\n",
    "    ['32415', 'mike_reed', 32.0, ['ELECTRONICS', 'SPORT', 'BOOKS'], [894, 213, 173]],\n",
    "    ['31980', 'kate morgan', 24.0, ['CLOTHES', 'BOOKS'], [439, 390]],\n",
    "    ['32156', 'john doe', 37.0, ['ELECTRONICS', 'HOME', 'FOOD'], [459, 120, 99]],\n",
    "    ['32761', 'SAMANTHA SMITH', 29.0, ['CLOTHES',\n",
    "                                       'ELECTRONICS', 'BEAUTY'], [299, 679, 85]],\n",
    "    ['32984', 'David White', 41.0, ['BOOKS', 'HOME', 'SPORT'], [234, 329, 243]],\n",
    "    ['33001', 'emily brown', 26.0, ['BEAUTY', 'HOME', 'FOOD'], [213, 659, 79]],\n",
    "    ['33767', 'Maria Garcia', 33.0, ['CLOTHES', 'FOOD', 'BEAUTY'], [499, 189, 63]],\n",
    "    ['33912', 'JOSE MARTINEZ', 22.0, ['SPORT', 'ELECTRONICS', 'HOME'], [259, 549, 109]],\n",
    "    ['34009', 'lisa wilson ', 35.0, ['HOME', 'BOOKS', 'CLOTHES'], [329, 189, 329]],\n",
    "    ['34278', 'James Lee', 28.0, ['BEAUTY', 'CLOTHES', 'ELECTRONICS'], [189, 299, 579]],\n",
    "]\n",
    "\n",
    "\n",
    "user_info = f\"We have registered data from {len(users)} clients.\"\n",
    "print(user_info)"
   ]
  },
  {
   "cell_type": "markdown",
   "id": "4797ecfc",
   "metadata": {},
   "source": [
    "********Hint********\n",
    "\n",
    "To create a string, you can use the `format()` method or f-string. To extract the number of customers in the list, you can use the function that returns the length of the list."
   ]
  },
  {
   "cell_type": "markdown",
   "id": "44085576",
   "metadata": {},
   "source": [
    "# Step 10\n",
    "\n",
    "Now let's apply all the changes to the customer list. To simplify things, we'll provide a shorter one.\n",
    "You must:\n",
    "1. Remove all leading and trailing spaces from names, as well as any underscores.\n",
    "2. Convert all ages to integers.\n",
    "3. Separate all first and last names into a sublist.\n",
    "\n",
    "Save the modified list as a new list called `users_clean` and display it on the screen."
   ]
  },
  {
   "cell_type": "code",
   "execution_count": null,
   "id": "78655560",
   "metadata": {},
   "outputs": [
    {
     "name": "stdout",
     "output_type": "stream",
     "text": [
      "[['mike', 'reed'], 32, ['kate', 'morgan'], 24, ['john', 'doe'], 37]\n"
     ]
    }
   ],
   "source": [
    "users = [\n",
    "    ['32415', ' mike_reed ', 32.0, ['ELECTRONICS', 'SPORT', 'BOOKS'], [894, 213, 173]],\n",
    "    ['31980', 'kate morgan', 24.0, ['CLOTHES', 'BOOKS'], [439, 390]],\n",
    "    ['32156', ' john doe ', 37.0, ['ELECTRONICS', 'HOME', 'FOOD'], [459, 120, 99]],\n",
    "]\n",
    "\n",
    "users_clean = []\n",
    "\n",
    "\n",
    "# Procesa al primer usuario\n",
    "user_name_1 = users[0][1].replace('_', ' ').strip().split()\n",
    "user_age_1 = int(users[0][2])\n",
    "users_clean.extend([user_name_1, user_age_1])\n",
    "\n",
    "# Procesa al segundo usuario\n",
    "user_name_2 = users[1][1].replace('_', ' ').strip().split()\n",
    "user_age_2 = int(users[1][2])\n",
    "users_clean.extend([user_name_2, user_age_2])\n",
    "\n",
    "# Procesa al tercer usuario\n",
    "user_name_3 = users[2][1].replace('_', ' ').strip().split()\n",
    "user_age_3 = int(users[2][2])\n",
    "users_clean.extend([user_name_3, user_age_3])\n",
    "\n",
    "\n",
    "print(users_clean)"
   ]
  },
  {
   "cell_type": "markdown",
   "id": "1fa52d2e",
   "metadata": {},
   "source": [
    "********Hint********\n",
    "\n",
    "To process each user, start by accessing the required elements of the users list. Use the `strip()` method to remove leading and trailing spaces and the `replace('_',' ')` method to replace underscores with spaces in names. Convert the age to an integer using `int()`. Separate the full name into first and last names using the `split()` method. Finally, `append` (adds) the cleaned data to the `users_clean` list."
   ]
  }
 ],
 "metadata": {
  "kernelspec": {
   "display_name": "Win11_Python-PipVenv-Github-Hmb7GD39",
   "language": "python",
   "name": "python3"
  },
  "language_info": {
   "codemirror_mode": {
    "name": "ipython",
    "version": 3
   },
   "file_extension": ".py",
   "mimetype": "text/x-python",
   "name": "python",
   "nbconvert_exporter": "python",
   "pygments_lexer": "ipython3",
   "version": "3.13.2"
  }
 },
 "nbformat": 4,
 "nbformat_minor": 5
}
